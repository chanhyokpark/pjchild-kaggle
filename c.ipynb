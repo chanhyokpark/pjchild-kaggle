{
 "cells": [
  {
   "cell_type": "code",
   "id": "initial_id",
   "metadata": {
    "collapsed": true,
    "ExecuteTime": {
     "end_time": "2024-06-28T14:03:38.392832Z",
     "start_time": "2024-06-28T14:03:32.568224Z"
    }
   },
   "source": [
    "import pandas as pd\n",
    "import os\n",
    "import subprocess\n",
    "import time\n",
    "import re\n",
    "df=pd.read_csv('change.csv')\n",
    "prev_score=0.82347\n",
    "for i in range(121,171):\n",
    "    df.loc[i, 'Transported']=!df.loc[i, 'Transported']\n",
    "    print(f'changed to {df.loc[i, \"Transported\"]} ')\n",
    "    # run: kaggle competitions submit -c sw-ai-competition-djshs -f submission.csv -m \"Message\"\n",
    "    df.to_csv(f'change_{i}.csv', index=False)\n",
    "    os.system(f'kaggle competitions submit -c koitest1 -f change_{i}.csv -m \"Message\"')\n",
    "    time.sleep(0.5)\n",
    "    # run kaggle competitions submissions -c sw-ai-competition-djshs and get output\n",
    "    res=subprocess.run(['kaggle', 'competitions', 'submissions', '-c', 'koitest1'], stdout=subprocess.PIPE).stdout.decode('utf-8')\n",
    "    print(res)\n",
    "    # get score: completed  {score} ... \n",
    "    score=float(res.split('\\n')[3].split('complete  ')[1].split('  ')[0].strip())\n",
    "    print(i, score)\n",
    "    if score>prev_score:\n",
    "        prev_score=score\n",
    "    else:\n",
    "        df.loc[i, 'Transported']=!df.loc[i, 'Transported']\n",
    "        print(f'reverted to {df.loc[i, \"Transported\"]} ')\n",
    "    \n",
    "    "
   ],
   "outputs": [
    {
     "name": "stderr",
     "output_type": "stream",
     "text": [
      "/var/folders/qf/vlj_34vn4cv6lq54f57phth80000gn/T/ipykernel_92572/2423275157.py:9: FutureWarning: Setting an item of incompatible dtype is deprecated and will raise an error in a future version of pandas. Value 'zsh:1: bad pattern: df.loc[i,' has dtype incompatible with bool, please explicitly cast to a compatible dtype first.\n",
      "  df.loc[i, 'Transported']=get_ipython().getoutput(\"df.loc[i, 'Transported']\")\n"
     ]
    },
    {
     "name": "stdout",
     "output_type": "stream",
     "text": [
      "changed to zsh:1: bad pattern: df.loc[i, \n",
      "Warning: Your Kaggle API key is readable by other users on this system! To fix this, you can run 'chmod 600 /Users/pch/.kaggle/kaggle.json'\n"
     ]
    },
    {
     "name": "stderr",
     "output_type": "stream",
     "text": [
      "100%|██████████| 56.2k/56.2k [00:01<00:00, 53.0kB/s]\n"
     ]
    },
    {
     "name": "stdout",
     "output_type": "stream",
     "text": [
      "User cancelled operation\n",
      "Warning: Your Kaggle API key is readable by other users on this system! To fix this, you can run 'chmod 600 /Users/pch/.kaggle/kaggle.json'\n",
      "fileName        date                 description  status    publicScore   privateScore  \n",
      "--------------  -------------------  -----------  --------  ------------  ------------  \n",
      "change_121.csv  2024-06-28 14:03:34  Message      complete  0.8232405891  0.8232405891  \n",
      "change_128.csv  2024-06-28 14:01:27  Message      complete  0.8218377367  0.8218377367  \n",
      "change_127.csv  2024-06-28 14:01:23  Message      complete  0.8220715454  0.8220715454  \n",
      "change_125.csv  2024-06-28 14:01:18  Message      complete  0.8225391629  0.8225391629  \n",
      "change_124.csv  2024-06-28 14:01:14  Message      complete  0.8227729717  0.8227729717  \n",
      "change_123.csv  2024-06-28 14:01:11  Message      complete  0.8230067804  0.8230067804  \n",
      "change_122.csv  2024-06-28 14:01:07  Message      complete  0.8232405891  0.8232405891  \n",
      "change_121.csv  2024-06-28 14:01:03  Message      complete  0.8232405891  0.8232405891  \n",
      "change_t.csv    2024-06-28 13:58:11  Message      complete  0.8227729717  0.8227729717  \n",
      "change_t.csv    2024-06-28 13:58:07  Message      complete  0.8230067804  0.8230067804  \n",
      "change_t.csv    2024-06-28 13:58:04  Message      complete  0.8232405891  0.8232405891  \n",
      "change_t.csv    2024-06-28 13:58:00  Message      complete  0.8232405891  0.8232405891  \n",
      "change.csv      2024-06-28 13:55:07  msg          complete  0.8234743979  0.8234743979  \n",
      "change_t.csv    2024-06-28 13:54:01  Message      complete  0.8220715454  0.8220715454  \n",
      "change_t.csv    2024-06-28 13:53:57  Message      complete  0.8223053542  0.8223053542  \n",
      "change_t.csv    2024-06-28 13:53:54  Message      complete  0.8225391629  0.8225391629  \n",
      "change_t.csv    2024-06-28 13:53:50  Message      complete  0.8227729717  0.8227729717  \n",
      "change_t.csv    2024-06-28 13:53:47  Message      complete  0.8230067804  0.8230067804  \n",
      "change_t.csv    2024-06-28 13:53:43  Message      complete  0.8232405891  0.8232405891  \n",
      "change_t.csv    2024-06-28 13:53:40  Message      complete  0.8232405891  0.8232405891  \n",
      "change_t.csv    2024-06-28 13:52:58  Message      complete  0.8216039279  0.8216039279  \n",
      "change_t.csv    2024-06-28 13:52:55  Message      complete  0.8218377367  0.8218377367  \n",
      "change_t.csv    2024-06-28 13:52:52  Message      complete  0.8220715454  0.8220715454  \n",
      "change_t.csv    2024-06-28 13:52:48  Message      complete  0.8223053542  0.8223053542  \n",
      "change_t.csv    2024-06-28 13:52:44  Message      complete  0.8225391629  0.8225391629  \n",
      "change_t.csv    2024-06-28 13:52:41  Message      complete  0.8227729717  0.8227729717  \n",
      "change_t.csv    2024-06-28 13:52:37  Message      complete  0.8230067804  0.8230067804  \n",
      "change_t.csv    2024-06-28 13:52:34  Message      complete  0.8232405891  0.8232405891  \n",
      "change_t.csv    2024-06-28 13:52:30  Message      complete  0.8232405891  0.8232405891  \n",
      "change_t.csv    2024-06-28 13:51:16  Message      complete  0.8232405891  0.8232405891  \n",
      "submission.csv  2024-06-28 13:49:43  msg          complete  0.819733458   0.819733458   \n",
      "\n",
      "121 0.8232405891\n",
      "reverted to ['zsh:1: bad pattern: df.loc[i,'] \n",
      "changed to ['zsh:1: bad pattern: df.loc[i,'] \n",
      "Warning: Your Kaggle API key is readable by other users on this system! To fix this, you can run 'chmod 600 /Users/pch/.kaggle/kaggle.json'\n"
     ]
    },
    {
     "name": "stderr",
     "output_type": "stream",
     "text": [
      "100%|██████████| 56.2k/56.2k [00:00<00:00, 62.9kB/s]\n"
     ]
    },
    {
     "name": "stdout",
     "output_type": "stream",
     "text": [
      "User cancelled operation\n"
     ]
    },
    {
     "ename": "KeyboardInterrupt",
     "evalue": "",
     "output_type": "error",
     "traceback": [
      "\u001B[0;31m---------------------------------------------------------------------------\u001B[0m",
      "\u001B[0;31mKeyboardInterrupt\u001B[0m                         Traceback (most recent call last)",
      "Cell \u001B[0;32mIn[6], line 14\u001B[0m\n\u001B[1;32m     12\u001B[0m df\u001B[38;5;241m.\u001B[39mto_csv(\u001B[38;5;124mf\u001B[39m\u001B[38;5;124m'\u001B[39m\u001B[38;5;124mchange_\u001B[39m\u001B[38;5;132;01m{\u001B[39;00mi\u001B[38;5;132;01m}\u001B[39;00m\u001B[38;5;124m.csv\u001B[39m\u001B[38;5;124m'\u001B[39m, index\u001B[38;5;241m=\u001B[39m\u001B[38;5;28;01mFalse\u001B[39;00m)\n\u001B[1;32m     13\u001B[0m os\u001B[38;5;241m.\u001B[39msystem(\u001B[38;5;124mf\u001B[39m\u001B[38;5;124m'\u001B[39m\u001B[38;5;124mkaggle competitions submit -c koitest1 -f change_\u001B[39m\u001B[38;5;132;01m{\u001B[39;00mi\u001B[38;5;132;01m}\u001B[39;00m\u001B[38;5;124m.csv -m \u001B[39m\u001B[38;5;124m\"\u001B[39m\u001B[38;5;124mMessage\u001B[39m\u001B[38;5;124m\"\u001B[39m\u001B[38;5;124m'\u001B[39m)\n\u001B[0;32m---> 14\u001B[0m time\u001B[38;5;241m.\u001B[39msleep(\u001B[38;5;241m0.5\u001B[39m)\n\u001B[1;32m     15\u001B[0m \u001B[38;5;66;03m# run kaggle competitions submissions -c sw-ai-competition-djshs and get output\u001B[39;00m\n\u001B[1;32m     16\u001B[0m res\u001B[38;5;241m=\u001B[39msubprocess\u001B[38;5;241m.\u001B[39mrun([\u001B[38;5;124m'\u001B[39m\u001B[38;5;124mkaggle\u001B[39m\u001B[38;5;124m'\u001B[39m, \u001B[38;5;124m'\u001B[39m\u001B[38;5;124mcompetitions\u001B[39m\u001B[38;5;124m'\u001B[39m, \u001B[38;5;124m'\u001B[39m\u001B[38;5;124msubmissions\u001B[39m\u001B[38;5;124m'\u001B[39m, \u001B[38;5;124m'\u001B[39m\u001B[38;5;124m-c\u001B[39m\u001B[38;5;124m'\u001B[39m, \u001B[38;5;124m'\u001B[39m\u001B[38;5;124mkoitest1\u001B[39m\u001B[38;5;124m'\u001B[39m], stdout\u001B[38;5;241m=\u001B[39msubprocess\u001B[38;5;241m.\u001B[39mPIPE)\u001B[38;5;241m.\u001B[39mstdout\u001B[38;5;241m.\u001B[39mdecode(\u001B[38;5;124m'\u001B[39m\u001B[38;5;124mutf-8\u001B[39m\u001B[38;5;124m'\u001B[39m)\n",
      "\u001B[0;31mKeyboardInterrupt\u001B[0m: "
     ]
    }
   ],
   "execution_count": 6
  },
  {
   "metadata": {},
   "cell_type": "code",
   "outputs": [],
   "execution_count": null,
   "source": "",
   "id": "adaa3093a7a0c89b"
  }
 ],
 "metadata": {
  "kernelspec": {
   "display_name": "Python 3",
   "language": "python",
   "name": "python3"
  },
  "language_info": {
   "codemirror_mode": {
    "name": "ipython",
    "version": 2
   },
   "file_extension": ".py",
   "mimetype": "text/x-python",
   "name": "python",
   "nbconvert_exporter": "python",
   "pygments_lexer": "ipython2",
   "version": "2.7.6"
  }
 },
 "nbformat": 4,
 "nbformat_minor": 5
}
