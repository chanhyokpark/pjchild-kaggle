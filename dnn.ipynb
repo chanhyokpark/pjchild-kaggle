{
 "cells": [
  {
   "cell_type": "code",
   "id": "initial_id",
   "metadata": {
    "collapsed": true,
    "ExecuteTime": {
     "end_time": "2024-06-26T14:25:42.765084Z",
     "start_time": "2024-06-26T14:25:40.984545Z"
    }
   },
   "source": [
    "import sklearn\n",
    "import numpy as np\n",
    "import pandas as pd\n",
    "import matplotlib.pyplot as plt\n",
    "from sklearn.model_selection import train_test_split\n",
    "from sklearn.metrics import accuracy_score\n",
    "import lightgbm as lgb\n",
    "from lightgbm import LGBMClassifier\n",
    "from xgboost import XGBClassifier\n",
    "from catboost import CatBoostClassifier\n",
    "import torch\n",
    "import torch.nn as nn"
   ],
   "outputs": [],
   "execution_count": 2
  },
  {
   "metadata": {
    "ExecuteTime": {
     "end_time": "2024-06-26T14:25:42.784718Z",
     "start_time": "2024-06-26T14:25:42.767231Z"
    }
   },
   "cell_type": "code",
   "source": [
    "# 데이터 불러오기\n",
    "train=pd.read_csv('train.csv')\n",
    "train.head()"
   ],
   "id": "65818406fcb7e4dd",
   "outputs": [
    {
     "data": {
      "text/plain": [
       "  PassengerId HomePlanet CryoSleep  Cabin  Destination   Age    VIP  \\\n",
       "0     0001_01     Europa     False  B/0/P  TRAPPIST-1e  39.0  False   \n",
       "1     0002_01      Earth     False  F/0/S  TRAPPIST-1e  24.0  False   \n",
       "2     0003_01     Europa     False  A/0/S  TRAPPIST-1e  58.0   True   \n",
       "3     0003_02     Europa     False  A/0/S  TRAPPIST-1e  33.0  False   \n",
       "4     0004_01      Earth     False  F/1/S  TRAPPIST-1e  16.0  False   \n",
       "\n",
       "   RoomService  FoodCourt  ShoppingMall     Spa  VRDeck               Name  \\\n",
       "0          0.0        0.0           0.0     0.0     0.0    Maham Ofracculy   \n",
       "1        109.0        9.0          25.0   549.0    44.0       Juanna Vines   \n",
       "2         43.0     3576.0           0.0  6715.0    49.0      Altark Susent   \n",
       "3          0.0     1283.0         371.0  3329.0   193.0       Solam Susent   \n",
       "4        303.0       70.0         151.0   565.0     2.0  Willy Santantines   \n",
       "\n",
       "   Transported  \n",
       "0        False  \n",
       "1         True  \n",
       "2        False  \n",
       "3        False  \n",
       "4         True  "
      ],
      "text/html": [
       "<div>\n",
       "<style scoped>\n",
       "    .dataframe tbody tr th:only-of-type {\n",
       "        vertical-align: middle;\n",
       "    }\n",
       "\n",
       "    .dataframe tbody tr th {\n",
       "        vertical-align: top;\n",
       "    }\n",
       "\n",
       "    .dataframe thead th {\n",
       "        text-align: right;\n",
       "    }\n",
       "</style>\n",
       "<table border=\"1\" class=\"dataframe\">\n",
       "  <thead>\n",
       "    <tr style=\"text-align: right;\">\n",
       "      <th></th>\n",
       "      <th>PassengerId</th>\n",
       "      <th>HomePlanet</th>\n",
       "      <th>CryoSleep</th>\n",
       "      <th>Cabin</th>\n",
       "      <th>Destination</th>\n",
       "      <th>Age</th>\n",
       "      <th>VIP</th>\n",
       "      <th>RoomService</th>\n",
       "      <th>FoodCourt</th>\n",
       "      <th>ShoppingMall</th>\n",
       "      <th>Spa</th>\n",
       "      <th>VRDeck</th>\n",
       "      <th>Name</th>\n",
       "      <th>Transported</th>\n",
       "    </tr>\n",
       "  </thead>\n",
       "  <tbody>\n",
       "    <tr>\n",
       "      <th>0</th>\n",
       "      <td>0001_01</td>\n",
       "      <td>Europa</td>\n",
       "      <td>False</td>\n",
       "      <td>B/0/P</td>\n",
       "      <td>TRAPPIST-1e</td>\n",
       "      <td>39.0</td>\n",
       "      <td>False</td>\n",
       "      <td>0.0</td>\n",
       "      <td>0.0</td>\n",
       "      <td>0.0</td>\n",
       "      <td>0.0</td>\n",
       "      <td>0.0</td>\n",
       "      <td>Maham Ofracculy</td>\n",
       "      <td>False</td>\n",
       "    </tr>\n",
       "    <tr>\n",
       "      <th>1</th>\n",
       "      <td>0002_01</td>\n",
       "      <td>Earth</td>\n",
       "      <td>False</td>\n",
       "      <td>F/0/S</td>\n",
       "      <td>TRAPPIST-1e</td>\n",
       "      <td>24.0</td>\n",
       "      <td>False</td>\n",
       "      <td>109.0</td>\n",
       "      <td>9.0</td>\n",
       "      <td>25.0</td>\n",
       "      <td>549.0</td>\n",
       "      <td>44.0</td>\n",
       "      <td>Juanna Vines</td>\n",
       "      <td>True</td>\n",
       "    </tr>\n",
       "    <tr>\n",
       "      <th>2</th>\n",
       "      <td>0003_01</td>\n",
       "      <td>Europa</td>\n",
       "      <td>False</td>\n",
       "      <td>A/0/S</td>\n",
       "      <td>TRAPPIST-1e</td>\n",
       "      <td>58.0</td>\n",
       "      <td>True</td>\n",
       "      <td>43.0</td>\n",
       "      <td>3576.0</td>\n",
       "      <td>0.0</td>\n",
       "      <td>6715.0</td>\n",
       "      <td>49.0</td>\n",
       "      <td>Altark Susent</td>\n",
       "      <td>False</td>\n",
       "    </tr>\n",
       "    <tr>\n",
       "      <th>3</th>\n",
       "      <td>0003_02</td>\n",
       "      <td>Europa</td>\n",
       "      <td>False</td>\n",
       "      <td>A/0/S</td>\n",
       "      <td>TRAPPIST-1e</td>\n",
       "      <td>33.0</td>\n",
       "      <td>False</td>\n",
       "      <td>0.0</td>\n",
       "      <td>1283.0</td>\n",
       "      <td>371.0</td>\n",
       "      <td>3329.0</td>\n",
       "      <td>193.0</td>\n",
       "      <td>Solam Susent</td>\n",
       "      <td>False</td>\n",
       "    </tr>\n",
       "    <tr>\n",
       "      <th>4</th>\n",
       "      <td>0004_01</td>\n",
       "      <td>Earth</td>\n",
       "      <td>False</td>\n",
       "      <td>F/1/S</td>\n",
       "      <td>TRAPPIST-1e</td>\n",
       "      <td>16.0</td>\n",
       "      <td>False</td>\n",
       "      <td>303.0</td>\n",
       "      <td>70.0</td>\n",
       "      <td>151.0</td>\n",
       "      <td>565.0</td>\n",
       "      <td>2.0</td>\n",
       "      <td>Willy Santantines</td>\n",
       "      <td>True</td>\n",
       "    </tr>\n",
       "  </tbody>\n",
       "</table>\n",
       "</div>"
      ]
     },
     "execution_count": 3,
     "metadata": {},
     "output_type": "execute_result"
    }
   ],
   "execution_count": 3
  },
  {
   "metadata": {
    "ExecuteTime": {
     "end_time": "2024-06-26T14:25:42.789302Z",
     "start_time": "2024-06-26T14:25:42.785365Z"
    }
   },
   "cell_type": "code",
   "source": [
    "# null값 확인\n",
    "train.isnull().sum()"
   ],
   "id": "9b1f86b559c7b594",
   "outputs": [
    {
     "data": {
      "text/plain": [
       "PassengerId       0\n",
       "HomePlanet      201\n",
       "CryoSleep       217\n",
       "Cabin           199\n",
       "Destination     182\n",
       "Age             179\n",
       "VIP             203\n",
       "RoomService     181\n",
       "FoodCourt       183\n",
       "ShoppingMall    208\n",
       "Spa             183\n",
       "VRDeck          188\n",
       "Name            200\n",
       "Transported       0\n",
       "dtype: int64"
      ]
     },
     "execution_count": 4,
     "metadata": {},
     "output_type": "execute_result"
    }
   ],
   "execution_count": 4
  },
  {
   "metadata": {
    "ExecuteTime": {
     "end_time": "2024-06-26T14:25:42.798729Z",
     "start_time": "2024-06-26T14:25:42.790873Z"
    }
   },
   "cell_type": "code",
   "source": "train.nunique(axis=0)",
   "id": "7e2a83b4515c9a6b",
   "outputs": [
    {
     "data": {
      "text/plain": [
       "PassengerId     8693\n",
       "HomePlanet         3\n",
       "CryoSleep          2\n",
       "Cabin           6560\n",
       "Destination        3\n",
       "Age               80\n",
       "VIP                2\n",
       "RoomService     1273\n",
       "FoodCourt       1507\n",
       "ShoppingMall    1115\n",
       "Spa             1327\n",
       "VRDeck          1306\n",
       "Name            8473\n",
       "Transported        2\n",
       "dtype: int64"
      ]
     },
     "execution_count": 5,
     "metadata": {},
     "output_type": "execute_result"
    }
   ],
   "execution_count": 5
  },
  {
   "metadata": {
    "ExecuteTime": {
     "end_time": "2024-06-26T14:25:43.044759Z",
     "start_time": "2024-06-26T14:25:43.016709Z"
    }
   },
   "cell_type": "code",
   "source": [
    "display(train['HomePlanet'].unique())\n",
    "display(train['Destination'].unique())"
   ],
   "id": "40d8d380243c853b",
   "outputs": [
    {
     "data": {
      "text/plain": [
       "array(['Europa', 'Earth', 'Mars', nan], dtype=object)"
      ]
     },
     "metadata": {},
     "output_type": "display_data"
    },
    {
     "data": {
      "text/plain": [
       "array(['TRAPPIST-1e', 'PSO J318.5-22', '55 Cancri e', nan], dtype=object)"
      ]
     },
     "metadata": {},
     "output_type": "display_data"
    }
   ],
   "execution_count": 6
  },
  {
   "metadata": {
    "ExecuteTime": {
     "end_time": "2024-06-26T14:25:43.757186Z",
     "start_time": "2024-06-26T14:25:43.733656Z"
    }
   },
   "cell_type": "code",
   "source": [
    "# 데이터 전처리\n",
    "def preprocess(df: pd.DataFrame):\n",
    "    # PassengerId, Name 제거\n",
    "    df=df.drop(['PassengerId', 'Name'],axis=1)\n",
    "    # null 제거\n",
    "    df[['VIP', 'CryoSleep', 'FoodCourt', 'ShoppingMall', 'Spa', 'VRDeck', 'Age', 'RoomService']] = df[['VIP', 'CryoSleep', 'FoodCourt', 'ShoppingMall', 'Spa', 'VRDeck', 'Age', 'RoomService']].fillna(0)\n",
    "    df[['VIP', 'CryoSleep']]=df[['VIP', 'CryoSleep']].astype(bool)\n",
    "    #df[['VIP', 'CryoSleep']]=df[['VIP', 'CryoSleep']].fillna(0).astype(bool)\n",
    "    #df[['FoodCourt', 'ShoppingMall', 'Spa', 'VRDeck']]=df[['FoodCourt', 'ShoppingMall', 'Spa', 'VRDeck']].fillna(df[['FoodCourt', 'ShoppingMall', 'Spa', 'VRDeck']].mean())\n",
    "    if 'Transported' in df.columns:\n",
    "        df['Transported']=df['Transported'].astype(float)\n",
    "    # HomePlanet, Destination 문자열 숫자로 변환\n",
    "    df[['HomePlanet', 'Destination']]=df[['HomePlanet', 'Destination']].fillna(0)\n",
    "    df['HomePlanet']=df['HomePlanet'].astype('category').cat.codes.astype(int)\n",
    "    df['Destination']=df['Destination'].astype('category').cat.codes.astype(int)\n",
    "    # Cabin 처리\n",
    "    # Cabin은 deck/num/side로 구성되어 있음\n",
    "    df[['Deck', 'CabinNum', 'CabinSide']]=df['Cabin'].str.extract(r'(\\w)/(\\d+)/(\\w)')\n",
    "    df['Deck']=df['Deck'].fillna('Z').astype('category').cat.codes.astype(int)\n",
    "    df['CabinNum']=df['CabinNum'].fillna(0).astype(int)\n",
    "    df['CabinSide']=df['CabinSide'].fillna('Z').astype('category').cat.codes.astype(int)\n",
    "    df=df.drop('Cabin', axis=1)\n",
    "    return df.astype(float)\n",
    "train=preprocess(train)\n",
    "display(train.isnull().sum())\n",
    "display(train.head())\n"
   ],
   "id": "dedef6bad8c254bf",
   "outputs": [
    {
     "data": {
      "text/plain": [
       "HomePlanet      0\n",
       "CryoSleep       0\n",
       "Destination     0\n",
       "Age             0\n",
       "VIP             0\n",
       "RoomService     0\n",
       "FoodCourt       0\n",
       "ShoppingMall    0\n",
       "Spa             0\n",
       "VRDeck          0\n",
       "Transported     0\n",
       "Deck            0\n",
       "CabinNum        0\n",
       "CabinSide       0\n",
       "dtype: int64"
      ]
     },
     "metadata": {},
     "output_type": "display_data"
    },
    {
     "data": {
      "text/plain": [
       "   HomePlanet  CryoSleep  Destination   Age  VIP  RoomService  FoodCourt  \\\n",
       "0         2.0        0.0          3.0  39.0  0.0          0.0        0.0   \n",
       "1         1.0        0.0          3.0  24.0  0.0        109.0        9.0   \n",
       "2         2.0        0.0          3.0  58.0  1.0         43.0     3576.0   \n",
       "3         2.0        0.0          3.0  33.0  0.0          0.0     1283.0   \n",
       "4         1.0        0.0          3.0  16.0  0.0        303.0       70.0   \n",
       "\n",
       "   ShoppingMall     Spa  VRDeck  Transported  Deck  CabinNum  CabinSide  \n",
       "0           0.0     0.0     0.0          0.0   1.0       0.0        0.0  \n",
       "1          25.0   549.0    44.0          1.0   5.0       0.0        1.0  \n",
       "2           0.0  6715.0    49.0          0.0   0.0       0.0        1.0  \n",
       "3         371.0  3329.0   193.0          0.0   0.0       0.0        1.0  \n",
       "4         151.0   565.0     2.0          1.0   5.0       1.0        1.0  "
      ],
      "text/html": [
       "<div>\n",
       "<style scoped>\n",
       "    .dataframe tbody tr th:only-of-type {\n",
       "        vertical-align: middle;\n",
       "    }\n",
       "\n",
       "    .dataframe tbody tr th {\n",
       "        vertical-align: top;\n",
       "    }\n",
       "\n",
       "    .dataframe thead th {\n",
       "        text-align: right;\n",
       "    }\n",
       "</style>\n",
       "<table border=\"1\" class=\"dataframe\">\n",
       "  <thead>\n",
       "    <tr style=\"text-align: right;\">\n",
       "      <th></th>\n",
       "      <th>HomePlanet</th>\n",
       "      <th>CryoSleep</th>\n",
       "      <th>Destination</th>\n",
       "      <th>Age</th>\n",
       "      <th>VIP</th>\n",
       "      <th>RoomService</th>\n",
       "      <th>FoodCourt</th>\n",
       "      <th>ShoppingMall</th>\n",
       "      <th>Spa</th>\n",
       "      <th>VRDeck</th>\n",
       "      <th>Transported</th>\n",
       "      <th>Deck</th>\n",
       "      <th>CabinNum</th>\n",
       "      <th>CabinSide</th>\n",
       "    </tr>\n",
       "  </thead>\n",
       "  <tbody>\n",
       "    <tr>\n",
       "      <th>0</th>\n",
       "      <td>2.0</td>\n",
       "      <td>0.0</td>\n",
       "      <td>3.0</td>\n",
       "      <td>39.0</td>\n",
       "      <td>0.0</td>\n",
       "      <td>0.0</td>\n",
       "      <td>0.0</td>\n",
       "      <td>0.0</td>\n",
       "      <td>0.0</td>\n",
       "      <td>0.0</td>\n",
       "      <td>0.0</td>\n",
       "      <td>1.0</td>\n",
       "      <td>0.0</td>\n",
       "      <td>0.0</td>\n",
       "    </tr>\n",
       "    <tr>\n",
       "      <th>1</th>\n",
       "      <td>1.0</td>\n",
       "      <td>0.0</td>\n",
       "      <td>3.0</td>\n",
       "      <td>24.0</td>\n",
       "      <td>0.0</td>\n",
       "      <td>109.0</td>\n",
       "      <td>9.0</td>\n",
       "      <td>25.0</td>\n",
       "      <td>549.0</td>\n",
       "      <td>44.0</td>\n",
       "      <td>1.0</td>\n",
       "      <td>5.0</td>\n",
       "      <td>0.0</td>\n",
       "      <td>1.0</td>\n",
       "    </tr>\n",
       "    <tr>\n",
       "      <th>2</th>\n",
       "      <td>2.0</td>\n",
       "      <td>0.0</td>\n",
       "      <td>3.0</td>\n",
       "      <td>58.0</td>\n",
       "      <td>1.0</td>\n",
       "      <td>43.0</td>\n",
       "      <td>3576.0</td>\n",
       "      <td>0.0</td>\n",
       "      <td>6715.0</td>\n",
       "      <td>49.0</td>\n",
       "      <td>0.0</td>\n",
       "      <td>0.0</td>\n",
       "      <td>0.0</td>\n",
       "      <td>1.0</td>\n",
       "    </tr>\n",
       "    <tr>\n",
       "      <th>3</th>\n",
       "      <td>2.0</td>\n",
       "      <td>0.0</td>\n",
       "      <td>3.0</td>\n",
       "      <td>33.0</td>\n",
       "      <td>0.0</td>\n",
       "      <td>0.0</td>\n",
       "      <td>1283.0</td>\n",
       "      <td>371.0</td>\n",
       "      <td>3329.0</td>\n",
       "      <td>193.0</td>\n",
       "      <td>0.0</td>\n",
       "      <td>0.0</td>\n",
       "      <td>0.0</td>\n",
       "      <td>1.0</td>\n",
       "    </tr>\n",
       "    <tr>\n",
       "      <th>4</th>\n",
       "      <td>1.0</td>\n",
       "      <td>0.0</td>\n",
       "      <td>3.0</td>\n",
       "      <td>16.0</td>\n",
       "      <td>0.0</td>\n",
       "      <td>303.0</td>\n",
       "      <td>70.0</td>\n",
       "      <td>151.0</td>\n",
       "      <td>565.0</td>\n",
       "      <td>2.0</td>\n",
       "      <td>1.0</td>\n",
       "      <td>5.0</td>\n",
       "      <td>1.0</td>\n",
       "      <td>1.0</td>\n",
       "    </tr>\n",
       "  </tbody>\n",
       "</table>\n",
       "</div>"
      ]
     },
     "metadata": {},
     "output_type": "display_data"
    }
   ],
   "execution_count": 7
  },
  {
   "metadata": {
    "jupyter": {
     "is_executing": true
    },
    "ExecuteTime": {
     "start_time": "2024-06-26T14:28:28.405336Z"
    }
   },
   "cell_type": "code",
   "source": [
    "# standardization\n",
    "from sklearn.preprocessing import StandardScaler\n",
    "cols=train.columns.drop('Transported')\n",
    "#train[cols]=StandardScaler().fit_transform(train[cols])\n",
    "#train.head()\n",
    "#display(train.to_numpy())"
   ],
   "id": "666fd114599e7188",
   "outputs": [],
   "execution_count": null
  },
  {
   "metadata": {},
   "cell_type": "code",
   "source": [
    "# train_test_split\n",
    "X=train.drop('Transported', axis=1)\n",
    "y=train['Transported']\n",
    "X_train, X_test, y_train, y_test=train_test_split(X, y, test_size=0.2, random_state=42)"
   ],
   "id": "2d95f41e3ad136e0",
   "outputs": [
    {
     "ename": "NameError",
     "evalue": "name 'train' is not defined",
     "output_type": "error",
     "traceback": [
      "\u001B[0;31m---------------------------------------------------------------------------\u001B[0m",
      "\u001B[0;31mNameError\u001B[0m                                 Traceback (most recent call last)",
      "Cell \u001B[0;32mIn[1], line 2\u001B[0m\n\u001B[1;32m      1\u001B[0m \u001B[38;5;66;03m# train_test_split\u001B[39;00m\n\u001B[0;32m----> 2\u001B[0m X\u001B[38;5;241m=\u001B[39mtrain\u001B[38;5;241m.\u001B[39mdrop(\u001B[38;5;124m'\u001B[39m\u001B[38;5;124mTransported\u001B[39m\u001B[38;5;124m'\u001B[39m, axis\u001B[38;5;241m=\u001B[39m\u001B[38;5;241m1\u001B[39m)\n\u001B[1;32m      3\u001B[0m y\u001B[38;5;241m=\u001B[39mtrain[\u001B[38;5;124m'\u001B[39m\u001B[38;5;124mTransported\u001B[39m\u001B[38;5;124m'\u001B[39m]\n\u001B[1;32m      4\u001B[0m X_train, X_test, y_train, y_test\u001B[38;5;241m=\u001B[39mtrain_test_split(X, y, test_size\u001B[38;5;241m=\u001B[39m\u001B[38;5;241m0.2\u001B[39m, random_state\u001B[38;5;241m=\u001B[39m\u001B[38;5;241m42\u001B[39m)\n",
      "\u001B[0;31mNameError\u001B[0m: name 'train' is not defined"
     ]
    }
   ],
   "execution_count": 1
  },
  {
   "metadata": {
    "jupyter": {
     "is_executing": true
    },
    "ExecuteTime": {
     "start_time": "2024-06-26T14:25:22.245685Z"
    }
   },
   "cell_type": "code",
   "source": [
    "class Model(nn.Module):\n",
    "    def __init__(self):\n",
    "        super(Model, self).__init__()\n",
    "        self.fc1=nn.Linear(X.shape[0], 64)\n",
    "        self.fc2=nn.Linear(64, 32)\n",
    "        self.fc3=nn.Linear(32, 1)\n",
    "        self.sigmoid=nn.Sigmoid()\n",
    "    def forward(self, x):\n",
    "        x=self.fc1(x)\n",
    "        x=self.fc2(x)\n",
    "        x=self.fc3(x)\n",
    "        x=self.sigmoid(x)\n",
    "        return x\n",
    "model=Model()\n",
    "lr=0.01\n",
    "num_epochs=30\n",
    "optimizer=torch.optim.Adam(model.parameters(), lr=lr)\n",
    "criterion=nn.BCELoss()\n",
    "validation_split=0.2\n",
    "batch_size=128\n",
    "#patience=10\n",
    "\n",
    "X_np=torch.tensor(X.to_numpy()).to('cpu')\n",
    "y_np=torch.tensor(y.to_numpy()).to('cpu')\n",
    "\n",
    "X_train, X_val, y_train, y_val=train_test_split(X_np, y_np, test_size=validation_split, random_state=42)\n",
    "\n",
    "\n",
    "\n",
    "import tqdm\n",
    "#train model\n",
    "from torchmetrics.functional import r2_score\n",
    "device=torch.device('cpu')\n",
    "def train():\n",
    "    for epoch in range(num_epochs):\n",
    "        model.train()\n",
    "        for i in tqdm.tqdm(range(0, X_train.shape[0], batch_size)):\n",
    "            X_batch=X_train[i:i+batch_size]\n",
    "            y_batch=y_train[i:i+batch_size]\n",
    "\n",
    "            optimizer.zero_grad()\n",
    "            y_pred=model(X_batch)\n",
    "            loss=criterion(y_pred, y_batch)\n",
    "            loss.backward()\n",
    "            optimizer.step()\n",
    "\n",
    "        model.eval()\n",
    "        with torch.no_grad():\n",
    "            y_pred_val=model(X_val)\n",
    "            val_loss=criterion(y_pred_val, y_val)\n",
    "            r2=r2_score(y_val, y_pred_val)\n",
    "            print(f'Epoch: {epoch}, Loss: {loss.item()}, Val Loss: {val_loss.item()}, R2 Score: {r2}')\n",
    "train()\n"
   ],
   "id": "a5d37e3d8f55ba3e",
   "outputs": [],
   "execution_count": null
  },
  {
   "metadata": {
    "ExecuteTime": {
     "end_time": "2024-06-26T14:25:25.180282Z",
     "start_time": "2024-06-26T14:25:24.952760Z"
    }
   },
   "cell_type": "code",
   "source": [
    "# lgbm\n",
    "lgbm=LGBMClassifier(objective='binary',boosting_type='gbdt' )\n",
    "lgbm.fit(X_train, y_train, eval_set=[(X_test, y_test)], callbacks=[lgb.early_stopping(70)], )\n",
    "lgbm_y_pred=lgbm.predict(X_test)\n",
    "accuracy_score(y_test, lgbm_y_pred)"
   ],
   "id": "a34ac056cbeca79d",
   "outputs": [
    {
     "ename": "NameError",
     "evalue": "name 'LGBMClassifier' is not defined",
     "output_type": "error",
     "traceback": [
      "\u001B[0;31m---------------------------------------------------------------------------\u001B[0m",
      "\u001B[0;31mNameError\u001B[0m                                 Traceback (most recent call last)",
      "Cell \u001B[0;32mIn[1], line 2\u001B[0m\n\u001B[1;32m      1\u001B[0m \u001B[38;5;66;03m# lgbm\u001B[39;00m\n\u001B[0;32m----> 2\u001B[0m lgbm\u001B[38;5;241m=\u001B[39mLGBMClassifier(objective\u001B[38;5;241m=\u001B[39m\u001B[38;5;124m'\u001B[39m\u001B[38;5;124mbinary\u001B[39m\u001B[38;5;124m'\u001B[39m,boosting_type\u001B[38;5;241m=\u001B[39m\u001B[38;5;124m'\u001B[39m\u001B[38;5;124mgbdt\u001B[39m\u001B[38;5;124m'\u001B[39m )\n\u001B[1;32m      3\u001B[0m lgbm\u001B[38;5;241m.\u001B[39mfit(X_train, y_train, eval_set\u001B[38;5;241m=\u001B[39m[(X_test, y_test)], callbacks\u001B[38;5;241m=\u001B[39m[lgb\u001B[38;5;241m.\u001B[39mearly_stopping(\u001B[38;5;241m70\u001B[39m)], )\n\u001B[1;32m      4\u001B[0m lgbm_y_pred\u001B[38;5;241m=\u001B[39mlgbm\u001B[38;5;241m.\u001B[39mpredict(X_test)\n",
      "\u001B[0;31mNameError\u001B[0m: name 'LGBMClassifier' is not defined"
     ]
    }
   ],
   "execution_count": 1
  },
  {
   "metadata": {},
   "cell_type": "code",
   "source": [
    "# cb\n",
    "cb=CatBoostClassifier()\n",
    "cb.fit(X_train, y_train)\n",
    "cb_y_pred=cb.predict(X_test)\n",
    "accuracy_score(y_test, cb_y_pred)"
   ],
   "id": "e043a2c1bd935302",
   "outputs": [],
   "execution_count": null
  },
  {
   "metadata": {},
   "cell_type": "code",
   "source": [
    "# xgb\n",
    "xgb=XGBClassifier()\n",
    "xgb.fit(X_train, y_train)\n",
    "xgb_y_pred=xgb.predict(X_test)\n",
    "accuracy_score(y_test, xgb_y_pred)"
   ],
   "id": "e0a293f97a54832",
   "outputs": [],
   "execution_count": null
  },
  {
   "metadata": {},
   "cell_type": "code",
   "source": [
    "test=pd.read_csv('test.csv')\n",
    "submission=pd.read_csv('sample_submission.csv')\n",
    "test=preprocess(test)\n",
    "test_pred=lgbm.predict(test)\n",
    "#test_pred=np.median([lgbm.predict(test).astype(int), cb.predict(test).astype(int), xgb.predict(test).astype(int)], axis=0)\n",
    "#print(test_pred)\n",
    "submission['Transported']=test_pred.astype(bool)\n",
    "submission.to_csv('submission.csv', index=False)"
   ],
   "id": "4650c67ab18aab0a",
   "outputs": [],
   "execution_count": null
  },
  {
   "metadata": {},
   "cell_type": "code",
   "source": "",
   "id": "d76652e641e5c427",
   "outputs": [],
   "execution_count": null
  }
 ],
 "metadata": {
  "kernelspec": {
   "display_name": "Python 3",
   "language": "python",
   "name": "python3"
  },
  "language_info": {
   "codemirror_mode": {
    "name": "ipython",
    "version": 2
   },
   "file_extension": ".py",
   "mimetype": "text/x-python",
   "name": "python",
   "nbconvert_exporter": "python",
   "pygments_lexer": "ipython2",
   "version": "2.7.6"
  }
 },
 "nbformat": 4,
 "nbformat_minor": 5
}
